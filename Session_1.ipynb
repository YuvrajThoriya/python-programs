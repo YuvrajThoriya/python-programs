{
  "nbformat": 4,
  "nbformat_minor": 0,
  "metadata": {
    "colab": {
      "name": "Session 1.ipynb",
      "provenance": [],
      "collapsed_sections": [],
      "authorship_tag": "ABX9TyMi9LRGajfsvOaxbNbYplOQ",
      "include_colab_link": true
    },
    "kernelspec": {
      "name": "python3",
      "display_name": "Python 3"
    },
    "language_info": {
      "name": "python"
    }
  },
  "cells": [
    {
      "cell_type": "markdown",
      "metadata": {
        "id": "view-in-github",
        "colab_type": "text"
      },
      "source": [
        "<a href=\"https://colab.research.google.com/github/YuvrajThoriya/python-programs/blob/main/Session_1.ipynb\" target=\"_parent\"><img src=\"https://colab.research.google.com/assets/colab-badge.svg\" alt=\"Open In Colab\"/></a>"
      ]
    },
    {
      "cell_type": "code",
      "execution_count": 41,
      "metadata": {
        "colab": {
          "base_uri": "https://localhost:8080/"
        },
        "id": "rDXS26xG4qLM",
        "outputId": "bd8fa80c-55b8-4105-a8d3-2bb52a83523f"
      },
      "outputs": [
        {
          "output_type": "stream",
          "name": "stdout",
          "text": [
            "Hello World!!\n",
            "5\n",
            "1\n",
            "6\n",
            "2\n",
            "Sum =  5\n",
            "Sub =  1\n",
            "Mul =  6\n",
            "Div =  2\n",
            "Sum =  11\n",
            "Sub =  -1\n",
            "Mul =  30\n",
            "Div =  0\n",
            "12/13/14\n",
            "Subject 1/Subject 2/Subject 3/Subject 4\n",
            "* * *\n",
            "*   *\n",
            "* * *\n",
            "    222    \n",
            "  2     2  \n",
            "2         2\n",
            "2         2\n",
            "  2     2  \n",
            "    222    \n",
            "2\n",
            "1\n",
            "0\n",
            "0\n",
            "0\n",
            "1.5\n",
            "35.5\n",
            "My department name is ICT\n",
            "My depaertment name is ICT My name is Yuvraj_yannick\n",
            "My university is Marwadi My department name is ICT My name is Yuvraj_yannick\n",
            "2/4/8/16/32/64/128/256/512/1024\n"
          ]
        }
      ],
      "source": [
        "#hello world\n",
        "print('Hello World!!')\n",
        "\n",
        "#simple operations\n",
        "print(2+3)\n",
        "print(2-1)\n",
        "print(2*3)\n",
        "print(4//2)\n",
        "\n",
        "#operation with lines\n",
        "print('Sum = ',2+3)\n",
        "print('Sub = ',2-1)\n",
        "print('Mul = ',2*3)\n",
        "print('Div = ',4//2)\n",
        "\n",
        "#operation with variables\n",
        "a=5\n",
        "b=6\n",
        "\n",
        "print('Sum = ',a+b)\n",
        "print('Sub = ',a-b)\n",
        "print('Mul = ',a*b)\n",
        "print('Div = ',a//b)\n",
        "\n",
        "# / format line\n",
        "print(12,end='/')\n",
        "print(13,end='/')\n",
        "print(14)\n",
        "\n",
        "\n",
        "print('Subject 1',end='/')\n",
        "print('Subject 2',end='/')\n",
        "print('Subject 3',end='/')\n",
        "print('Subject 4')\n",
        "\n",
        "#for pattern\n",
        "print('* * *')\n",
        "print('*   *')\n",
        "print('* * *')\n",
        "\n",
        "print('    222    ')\n",
        "print('  2     2  ')\n",
        "print('2         2')\n",
        "print('2         2')\n",
        "print('  2     2  ')\n",
        "print('    222    ')\n",
        "\n",
        "#integer division\n",
        "print(7//3)\n",
        "print(7%3)\n",
        "print(2//3)\n",
        "print(1//2)\n",
        "#Marwadi(ICT) \n",
        "print(9//13)\n",
        "print(3/2)\n",
        "print(71/2)\n",
        "\n",
        "a='ICT'\n",
        "b='Yuvraj_yannick'\n",
        "c='Marwadi'\n",
        "print('My department name is '+a)\n",
        "print('My depaertment name is '+a,'My name is '+b)\n",
        "print('My university is '+c,'My department name is '+a,'My name is '+b)\n",
        "\n",
        "#power multiplication\n",
        "print(2**1,end='/')\n",
        "print(2**2,end='/')\n",
        "print(2**3,end='/')\n",
        "print(2**4,end='/')\n",
        "print(2**5,end='/')\n",
        "print(2**6,end='/')\n",
        "print(2**7,end='/')\n",
        "print(2**8,end='/')\n",
        "print(2**9,end='/')\n",
        "print(2**10)\n"
      ]
    }
  ]
}